{
  "nbformat": 4,
  "nbformat_minor": 0,
  "metadata": {
    "colab": {
      "provenance": [],
      "machine_shape": "hm",
      "authorship_tag": "ABX9TyPI/OAlVGapuGzU1+PNIG80",
      "include_colab_link": true
    },
    "kernelspec": {
      "name": "python3",
      "display_name": "Python 3"
    },
    "language_info": {
      "name": "python"
    },
    "accelerator": "GPU",
    "gpuClass": "premium"
  },
  "cells": [
    {
      "cell_type": "markdown",
      "metadata": {
        "id": "view-in-github",
        "colab_type": "text"
      },
      "source": [
        "<a href=\"https://colab.research.google.com/github/ugurklc/Deep_Learning/blob/Master/Natural_Language_Processing/nlp_start.ipynb\" target=\"_parent\"><img src=\"https://colab.research.google.com/assets/colab-badge.svg\" alt=\"Open In Colab\"/></a>"
      ]
    },
    {
      "cell_type": "code",
      "execution_count": null,
      "metadata": {
        "id": "hFvi7WHDRvQi"
      },
      "outputs": [],
      "source": [
        "import tensorflow as tf\n",
        "from tensorflow import keras"
      ]
    },
    {
      "cell_type": "code",
      "source": [
        "from tensorflow.keras.preprocessing.text import Tokenizer"
      ],
      "metadata": {
        "id": "AuNRwCyTR104"
      },
      "execution_count": null,
      "outputs": []
    },
    {
      "cell_type": "code",
      "source": [
        "sentences = [\"Today is a sunny day\", \"Today is a rainy day\",\"Is it sunny today?\"]"
      ],
      "metadata": {
        "id": "FUY5r3ntSnAD"
      },
      "execution_count": null,
      "outputs": []
    },
    {
      "cell_type": "code",
      "source": [
        "tokenizer = Tokenizer(num_words=100)"
      ],
      "metadata": {
        "id": "3UzET-LqSqPU"
      },
      "execution_count": null,
      "outputs": []
    },
    {
      "cell_type": "code",
      "source": [
        "tokenizer.fit_on_texts(sentences)"
      ],
      "metadata": {
        "id": "usb35OMtSwOE"
      },
      "execution_count": null,
      "outputs": []
    },
    {
      "cell_type": "code",
      "source": [
        "word_index = tokenizer.word_index\n",
        "word_index"
      ],
      "metadata": {
        "colab": {
          "base_uri": "https://localhost:8080/"
        },
        "id": "muYTCi9-S4vF",
        "outputId": "11d98ebf-579f-41e5-feeb-4243009fba8a"
      },
      "execution_count": null,
      "outputs": [
        {
          "output_type": "execute_result",
          "data": {
            "text/plain": [
              "{'today': 1, 'is': 2, 'a': 3, 'sunny': 4, 'day': 5, 'rainy': 6, 'it': 7}"
            ]
          },
          "metadata": {},
          "execution_count": 50
        }
      ]
    },
    {
      "cell_type": "code",
      "source": [
        "word_count = tokenizer.word_counts\n",
        "word_count"
      ],
      "metadata": {
        "colab": {
          "base_uri": "https://localhost:8080/"
        },
        "id": "tvHteTpoXzCN",
        "outputId": "7dfd84a9-8720-4640-aedd-6ee10f8a082b"
      },
      "execution_count": null,
      "outputs": [
        {
          "output_type": "execute_result",
          "data": {
            "text/plain": [
              "OrderedDict([('today', 3),\n",
              "             ('is', 3),\n",
              "             ('a', 2),\n",
              "             ('sunny', 2),\n",
              "             ('day', 2),\n",
              "             ('rainy', 1),\n",
              "             ('it', 1)])"
            ]
          },
          "metadata": {},
          "execution_count": 51
        }
      ]
    },
    {
      "cell_type": "code",
      "source": [
        "sequences = tokenizer.texts_to_sequences(sentences)\n",
        "sequences"
      ],
      "metadata": {
        "colab": {
          "base_uri": "https://localhost:8080/"
        },
        "id": "ZCQm6-vyVZ0T",
        "outputId": "7c501ae9-e985-418f-a6cf-b9abd1dc1ae8"
      },
      "execution_count": null,
      "outputs": [
        {
          "output_type": "execute_result",
          "data": {
            "text/plain": [
              "[[1, 2, 3, 4, 5], [1, 2, 3, 6, 5], [2, 7, 4, 1]]"
            ]
          },
          "metadata": {},
          "execution_count": 52
        }
      ]
    },
    {
      "cell_type": "code",
      "source": [
        "test_data = ['Today is a snowy day','Will it be rainy tomorrow']"
      ],
      "metadata": {
        "id": "bW4y_9inXtJk"
      },
      "execution_count": null,
      "outputs": []
    },
    {
      "cell_type": "code",
      "source": [
        "tokenizer.texts_to_sequences(test_data)"
      ],
      "metadata": {
        "colab": {
          "base_uri": "https://localhost:8080/"
        },
        "id": "KuBxhjI6bUNW",
        "outputId": "b6626514-4420-41a3-e197-d1c2a174e84a"
      },
      "execution_count": null,
      "outputs": [
        {
          "output_type": "execute_result",
          "data": {
            "text/plain": [
              "[[1, 2, 3, 5], [7, 6]]"
            ]
          },
          "metadata": {},
          "execution_count": 54
        }
      ]
    },
    {
      "cell_type": "code",
      "source": [
        "tokenizer = Tokenizer(num_words=100, oov_token=\"<OOV>\")\n",
        "tokenizer.fit_on_texts(sentences)\n",
        "tokenizer.texts_to_sequences(test_data)"
      ],
      "metadata": {
        "colab": {
          "base_uri": "https://localhost:8080/"
        },
        "id": "SyG3o-kybZHg",
        "outputId": "2747bc7c-a3ee-4097-d48e-e441cb795810"
      },
      "execution_count": null,
      "outputs": [
        {
          "output_type": "execute_result",
          "data": {
            "text/plain": [
              "[[2, 3, 4, 1, 6], [1, 8, 1, 7, 1]]"
            ]
          },
          "metadata": {},
          "execution_count": 55
        }
      ]
    },
    {
      "cell_type": "code",
      "source": [
        "tokenizer.sequences_to_texts(tokenizer.texts_to_sequences(test_data))"
      ],
      "metadata": {
        "colab": {
          "base_uri": "https://localhost:8080/"
        },
        "id": "1sKs8257btaa",
        "outputId": "5f0c20ed-09a5-4c70-9108-528bdcf64656"
      },
      "execution_count": null,
      "outputs": [
        {
          "output_type": "execute_result",
          "data": {
            "text/plain": [
              "['today is a <OOV> day', '<OOV> it <OOV> rainy <OOV>']"
            ]
          },
          "metadata": {},
          "execution_count": 56
        }
      ]
    },
    {
      "cell_type": "code",
      "source": [],
      "metadata": {
        "id": "MdMQ8j52cF9m"
      },
      "execution_count": null,
      "outputs": []
    },
    {
      "cell_type": "markdown",
      "source": [
        "# Understanding Padding"
      ],
      "metadata": {
        "id": "EUihoFrfA7Rh"
      }
    },
    {
      "cell_type": "code",
      "source": [
        "sentences = [\n",
        "    'Today is a sunny day',\n",
        "    'Today is a rainy day',\n",
        "    'Is it sunny today?',\n",
        "    'I really enjoyed walking in the snow today'\n",
        "]"
      ],
      "metadata": {
        "id": "Oef2FBvBA_WG"
      },
      "execution_count": null,
      "outputs": []
    },
    {
      "cell_type": "code",
      "source": [
        "tokenizer = Tokenizer(num_words=100, oov_token='<OOV>')\n",
        "tokenizer.fit_on_texts(sentences)"
      ],
      "metadata": {
        "id": "J3zSGN9RBPcO"
      },
      "execution_count": null,
      "outputs": []
    },
    {
      "cell_type": "code",
      "source": [
        "tokenized = tokenizer.texts_to_sequences(sentences)\n",
        "tokenized"
      ],
      "metadata": {
        "colab": {
          "base_uri": "https://localhost:8080/"
        },
        "id": "Jbu0eLq1BXqL",
        "outputId": "213954a7-b6d2-4f3e-ba2b-bfee979d125f"
      },
      "execution_count": null,
      "outputs": [
        {
          "output_type": "execute_result",
          "data": {
            "text/plain": [
              "[[2, 3, 4, 5, 6],\n",
              " [2, 3, 4, 7, 6],\n",
              " [3, 8, 5, 2],\n",
              " [9, 10, 11, 12, 13, 14, 15, 2]]"
            ]
          },
          "metadata": {},
          "execution_count": 59
        }
      ]
    },
    {
      "cell_type": "code",
      "source": [
        "from tensorflow.keras.preprocessing.sequence import pad_sequences"
      ],
      "metadata": {
        "id": "DW0oPwj-BgSA"
      },
      "execution_count": null,
      "outputs": []
    },
    {
      "cell_type": "code",
      "source": [
        "padded = pad_sequences(tokenized)\n",
        "padded"
      ],
      "metadata": {
        "colab": {
          "base_uri": "https://localhost:8080/"
        },
        "id": "fY1fCN62B7VN",
        "outputId": "8d7385d2-6022-4e94-d8a2-cea35d739e43"
      },
      "execution_count": null,
      "outputs": [
        {
          "output_type": "execute_result",
          "data": {
            "text/plain": [
              "array([[ 0,  0,  0,  2,  3,  4,  5,  6],\n",
              "       [ 0,  0,  0,  2,  3,  4,  7,  6],\n",
              "       [ 0,  0,  0,  0,  3,  8,  5,  2],\n",
              "       [ 9, 10, 11, 12, 13, 14, 15,  2]], dtype=int32)"
            ]
          },
          "metadata": {},
          "execution_count": 61
        }
      ]
    },
    {
      "cell_type": "code",
      "source": [
        "padded = pad_sequences(tokenized, padding='post')\n",
        "padded"
      ],
      "metadata": {
        "colab": {
          "base_uri": "https://localhost:8080/"
        },
        "id": "Q1NXsccJCDT9",
        "outputId": "0c0c877f-2e95-4989-c04e-59b43f14352a"
      },
      "execution_count": null,
      "outputs": [
        {
          "output_type": "execute_result",
          "data": {
            "text/plain": [
              "array([[ 2,  3,  4,  5,  6,  0,  0,  0],\n",
              "       [ 2,  3,  4,  7,  6,  0,  0,  0],\n",
              "       [ 3,  8,  5,  2,  0,  0,  0,  0],\n",
              "       [ 9, 10, 11, 12, 13, 14, 15,  2]], dtype=int32)"
            ]
          },
          "metadata": {},
          "execution_count": 62
        }
      ]
    },
    {
      "cell_type": "code",
      "source": [
        "padded = pad_sequences(tokenized, padding='post', maxlen=6)\n",
        "padded"
      ],
      "metadata": {
        "colab": {
          "base_uri": "https://localhost:8080/"
        },
        "id": "jyrhy3cOCaa_",
        "outputId": "c11b51c0-3321-46d1-bb4d-c66de29fbcd0"
      },
      "execution_count": null,
      "outputs": [
        {
          "output_type": "execute_result",
          "data": {
            "text/plain": [
              "array([[ 2,  3,  4,  5,  6,  0],\n",
              "       [ 2,  3,  4,  7,  6,  0],\n",
              "       [ 3,  8,  5,  2,  0,  0],\n",
              "       [11, 12, 13, 14, 15,  2]], dtype=int32)"
            ]
          },
          "metadata": {},
          "execution_count": 63
        }
      ]
    },
    {
      "cell_type": "code",
      "source": [
        "padded = pad_sequences(tokenized, padding='post', maxlen=6, truncating='post')\n",
        "padded"
      ],
      "metadata": {
        "colab": {
          "base_uri": "https://localhost:8080/"
        },
        "id": "WRFLTRDICuGr",
        "outputId": "d8b247d2-f24c-4d89-f5b8-c7e810d1a58e"
      },
      "execution_count": null,
      "outputs": [
        {
          "output_type": "execute_result",
          "data": {
            "text/plain": [
              "array([[ 2,  3,  4,  5,  6,  0],\n",
              "       [ 2,  3,  4,  7,  6,  0],\n",
              "       [ 3,  8,  5,  2,  0,  0],\n",
              "       [ 9, 10, 11, 12, 13, 14]], dtype=int32)"
            ]
          },
          "metadata": {},
          "execution_count": 64
        }
      ]
    },
    {
      "cell_type": "code",
      "source": [],
      "metadata": {
        "id": "VsBlIfbDC70y"
      },
      "execution_count": null,
      "outputs": []
    },
    {
      "cell_type": "markdown",
      "source": [
        "# Removing Stopwords and Cleaning Text"
      ],
      "metadata": {
        "id": "YpP8Z_D3AgZX"
      }
    },
    {
      "cell_type": "code",
      "source": [
        "sentences = [\n",
        "    \"Today is the sunniest day\",\n",
        "    \"Today is a rainy day <br> and it's cold\",\n",
        "    \"Is it sunny today?\",\n",
        "    \"I really enjoyed walking in <br> the snow today but it was cold\"\n",
        "]"
      ],
      "metadata": {
        "id": "duwqAt14AkHl"
      },
      "execution_count": null,
      "outputs": []
    },
    {
      "cell_type": "code",
      "source": [
        "# Use BeautifulSoup to remove HTML tags in the sentence\n",
        "sentence = \"I really enjoyed walking in <br> the snow today but it was cold\""
      ],
      "metadata": {
        "id": "r9MvXe_tBdkj"
      },
      "execution_count": null,
      "outputs": []
    },
    {
      "cell_type": "code",
      "source": [
        "from bs4 import BeautifulSoup\n",
        "soup = BeautifulSoup(sentence)\n",
        "souped = soup.get_text()\n",
        "souped"
      ],
      "metadata": {
        "id": "AdgY6bviBFBU",
        "colab": {
          "base_uri": "https://localhost:8080/",
          "height": 35
        },
        "outputId": "efa1c979-f6c1-4b6e-cf39-683d2bbc047e"
      },
      "execution_count": null,
      "outputs": [
        {
          "output_type": "execute_result",
          "data": {
            "text/plain": [
              "'I really enjoyed walking in  the snow today but it was cold'"
            ],
            "application/vnd.google.colaboratory.intrinsic+json": {
              "type": "string"
            }
          },
          "metadata": {},
          "execution_count": 67
        }
      ]
    },
    {
      "cell_type": "code",
      "source": [
        "# Remove stopwords\n",
        "stopwords = ['a','about','yours','the','but','and']"
      ],
      "metadata": {
        "id": "LBAxmIsUBXNt"
      },
      "execution_count": null,
      "outputs": []
    },
    {
      "cell_type": "code",
      "source": [
        "sentence = \"I really enjoyed walking in <br> the snow today but it was cold\"\n",
        "\n",
        "words = sentence.split()\n",
        "filtered_sentence = \"\"\n",
        "new_sentence = []\n",
        "\n",
        "for word in words:\n",
        "  if word not in stopwords:\n",
        "    filtered_sentence = filtered_sentence + word + \" \"\n",
        "new_sentence.append(filtered_sentence)\n",
        "new_sentence"
      ],
      "metadata": {
        "colab": {
          "base_uri": "https://localhost:8080/"
        },
        "id": "PQICDp1JBv5-",
        "outputId": "e638003b-ef83-41f0-f2e1-bcfbd797d17b"
      },
      "execution_count": null,
      "outputs": [
        {
          "output_type": "execute_result",
          "data": {
            "text/plain": [
              "['I really enjoyed walking in <br> snow today it was cold ']"
            ]
          },
          "metadata": {},
          "execution_count": 69
        }
      ]
    },
    {
      "cell_type": "code",
      "source": [
        "# Strip punctuation\n",
        "sentence = \"I really enjoyed walking in <br> the snow today but it was cold\"\n",
        "\n",
        "import string\n",
        "table = str.maketrans(\"\",\"\",string.punctuation)\n",
        "words = sentence.split()\n",
        "filtered_sentence = \"\"\n",
        "new_sentence = []\n",
        "\n",
        "for word in words:\n",
        "  word = word.translate(table)\n",
        "  if word not in stopwords:\n",
        "    filtered_sentence = filtered_sentence + word + \" \"\n",
        "new_sentence.append(filtered_sentence)\n",
        "new_sentence"
      ],
      "metadata": {
        "colab": {
          "base_uri": "https://localhost:8080/"
        },
        "id": "jo2Fpg03CJsu",
        "outputId": "5491fa0f-1194-4c7c-8f57-7ccc2dfef10a"
      },
      "execution_count": null,
      "outputs": [
        {
          "output_type": "execute_result",
          "data": {
            "text/plain": [
              "['I really enjoyed walking in br snow today it was cold ']"
            ]
          },
          "metadata": {},
          "execution_count": 70
        }
      ]
    },
    {
      "cell_type": "code",
      "source": [
        "# Do it all\n",
        "\n",
        "# 1. Remove HTML tags\n",
        "# 2. Remove stopwords\n",
        "# 3. Strip punctuation\n",
        "\n",
        "sentence = \"I really enjoyed walking in <br> the snow today but it was cold\"\n",
        "\n",
        "from bs4 import BeautifulSoup\n",
        "soup = BeautifulSoup(sentence)\n",
        "souped = soup.get_text()\n",
        "souped\n",
        "\n",
        "import string\n",
        "table = str.maketrans(\"\",\"\",string.punctuation)\n",
        "words = souped.split()\n",
        "filtered_sentence = \"\"\n",
        "new_sentence = []\n",
        "\n",
        "for word in words:\n",
        "  word = word.translate(table)\n",
        "  if word not in stopwords:\n",
        "    filtered_sentence = filtered_sentence + word + \" \"\n",
        "new_sentence.append(filtered_sentence)\n",
        "new_sentence"
      ],
      "metadata": {
        "colab": {
          "base_uri": "https://localhost:8080/"
        },
        "id": "gWI-0pelDfzf",
        "outputId": "39c545d4-904d-4135-f3d3-763bec1339cd"
      },
      "execution_count": null,
      "outputs": [
        {
          "output_type": "execute_result",
          "data": {
            "text/plain": [
              "['I really enjoyed walking in snow today it was cold ']"
            ]
          },
          "metadata": {},
          "execution_count": 71
        }
      ]
    },
    {
      "cell_type": "code",
      "source": [],
      "metadata": {
        "id": "evBTjOuXDgtl"
      },
      "execution_count": null,
      "outputs": []
    }
  ]
}